{
 "cells": [
  {
   "cell_type": "code",
   "execution_count": 1,
   "id": "03ab7378",
   "metadata": {},
   "outputs": [
    {
     "name": "stdout",
     "output_type": "stream",
     "text": [
      "Testing recall on original patterns:\n",
      "Input:  [ 1  1 -1 -1]\n",
      "Output: [ 1  1 -1 -1]\n",
      "\n",
      "Input:  [-1 -1  1  1]\n",
      "Output: [-1 -1  1  1]\n",
      "\n",
      "Input:  [ 1 -1  1 -1]\n",
      "Output: [ 1 -1  1 -1]\n",
      "\n",
      "Input:  [-1  1 -1  1]\n",
      "Output: [-1  1 -1  1]\n",
      "\n",
      "Testing with noisy input:\n",
      "Noisy input: [ 1  1 -1  1]\n",
      "Recovered: [-1  1 -1 -1]\n"
     ]
    }
   ],
   "source": [
    "import numpy as np\n",
    "\n",
    "class HopfieldNetwork:\n",
    "    def __init__(self):\n",
    "        self.weights = None\n",
    "\n",
    "    def train(self, patterns):\n",
    "        self.weights = np.zeros((patterns.shape[1], patterns.shape[1]))\n",
    "        for p in patterns:\n",
    "            self.weights += np.outer(p, p)\n",
    "        np.fill_diagonal(self.weights, 0)  # Remove self-connections\n",
    "        self.weights /= len(patterns)  # Normalize\n",
    "\n",
    "    def activation(self, x):\n",
    "        return np.where(x >= 0, 1, -1)\n",
    "\n",
    "    def recall(self, pattern, steps=5):\n",
    "        output = pattern.copy()\n",
    "        for _ in range(steps):\n",
    "            output = self.activation(np.dot(self.weights, output))\n",
    "        return output\n",
    "\n",
    "# --- Example usage ---\n",
    "if __name__ == \"__main__\":\n",
    "    patterns = np.array([[1, 1, -1, -1], [-1, -1, 1, 1], [1, -1, 1, -1], [-1, 1, -1, 1]])\n",
    "    hopfield_net = HopfieldNetwork()\n",
    "    hopfield_net.train(patterns)\n",
    "\n",
    "    print(\"Testing recall on original patterns:\")\n",
    "    for p in patterns:\n",
    "        output = hopfield_net.recall(p)\n",
    "        print(f\"Input:  {p}\\nOutput: {output}\\n\")\n",
    "\n",
    "    noisy_input = np.array([1, 1, -1, 1])  # Flip one bit\n",
    "    output = hopfield_net.recall(noisy_input)\n",
    "    print(f\"Testing with noisy input:\\nNoisy input: {noisy_input}\\nRecovered: {output}\")\n"
   ]
  },
  {
   "cell_type": "code",
   "execution_count": null,
   "id": "6da0cc15",
   "metadata": {},
   "outputs": [],
   "source": []
  }
 ],
 "metadata": {
  "kernelspec": {
   "display_name": "Python 3 (ipykernel)",
   "language": "python",
   "name": "python3"
  },
  "language_info": {
   "codemirror_mode": {
    "name": "ipython",
    "version": 3
   },
   "file_extension": ".py",
   "mimetype": "text/x-python",
   "name": "python",
   "nbconvert_exporter": "python",
   "pygments_lexer": "ipython3",
   "version": "3.12.10"
  }
 },
 "nbformat": 4,
 "nbformat_minor": 5
}
