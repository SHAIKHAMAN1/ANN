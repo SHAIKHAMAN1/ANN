{
 "cells": [
  {
   "cell_type": "code",
   "execution_count": 4,
   "id": "25d9ca97",
   "metadata": {},
   "outputs": [
    {
     "name": "stdout",
     "output_type": "stream",
     "text": [
      "\n",
      "Predictions:\n",
      "Input: [1 0 0 0], Predicted Category: 0\n",
      "Input: [0 1 0 1], Predicted Category: 1\n",
      "Input: [1 1 0 0], Predicted Category: 2\n",
      "Input: [0 0 1 1], Predicted Category: 3\n"
     ]
    }
   ],
   "source": [
    "import numpy as np\n",
    "\n",
    "class ART1:\n",
    "    def __init__(self, input_size, num_categories, vigilance):\n",
    "        self.weights = np.ones((num_categories, input_size * 2))  # complement coding\n",
    "        self.vigilance = vigilance\n",
    "\n",
    "    def complement_code(self, input_vector):\n",
    "        return np.concatenate([input_vector, 1 - input_vector])\n",
    "\n",
    "    def train(self, input_patterns):\n",
    "        for pattern in input_patterns:\n",
    "            input_vector = self.complement_code(pattern)\n",
    "            while True:\n",
    "                scores = np.array([np.sum(np.minimum(input_vector, w)) for w in self.weights])\n",
    "                chosen = np.argmax(scores)\n",
    "                if np.sum(np.minimum(input_vector, self.weights[chosen])) / np.sum(input_vector) >= self.vigilance:\n",
    "                    self.weights[chosen] = np.minimum(self.weights[chosen], input_vector)\n",
    "                    break\n",
    "                self.weights[chosen] = np.zeros_like(self.weights[chosen])\n",
    "\n",
    "    def predict(self, input_vector):\n",
    "        input_vector = self.complement_code(input_vector)\n",
    "        return np.argmax([np.sum(np.minimum(input_vector, w)) for w in self.weights])\n",
    "\n",
    "# --- Example usage ---\n",
    "inputs = np.array([\n",
    "    [1, 0, 0, 0],\n",
    "    [0, 1, 0, 1],\n",
    "    [1, 1, 0, 0],\n",
    "    [0, 0, 1, 1]\n",
    "])\n",
    "\n",
    "art = ART1(input_size=4, num_categories=4, vigilance=0.7)\n",
    "art.train(inputs)\n",
    "\n",
    "print(\"\\nPredictions:\")\n",
    "for input_vector in inputs:\n",
    "    print(f\"Input: {input_vector}, Predicted Category: {art.predict(input_vector)}\")\n"
   ]
  },
  {
   "cell_type": "code",
   "execution_count": 5,
   "id": "ea1120b1",
   "metadata": {},
   "outputs": [
    {
     "name": "stdout",
     "output_type": "stream",
     "text": [
      "Predictions:\n",
      "Input: [1 0 0], Predicted Category: 0\n",
      "Input: [0 1 0], Predicted Category: 1\n",
      "Input: [1 1 0], Predicted Category: 2\n",
      "Input: [0 0 1], Predicted Category: 3\n"
     ]
    }
   ],
   "source": [
    "import numpy as np\n",
    "\n",
    "class ART1:\n",
    "    def __init__(self, input_size, num_categories, vigilance):\n",
    "        self.weights = np.ones((num_categories, input_size * 2))  # complement coding\n",
    "        self.vigilance = vigilance\n",
    "\n",
    "    def complement_code(self, input_vector):\n",
    "        return np.concatenate([input_vector, 1 - input_vector])\n",
    "\n",
    "    def train(self, inputs):\n",
    "        for input_vector in inputs:\n",
    "            input_vector = self.complement_code(input_vector)\n",
    "            while True:\n",
    "                scores = np.dot(self.weights, input_vector) / np.sum(input_vector)\n",
    "                chosen = np.argmax(scores)\n",
    "                if np.sum(np.minimum(input_vector, self.weights[chosen])) / np.sum(input_vector) >= self.vigilance:\n",
    "                    self.weights[chosen] = np.minimum(self.weights[chosen], input_vector)\n",
    "                    break\n",
    "                self.weights[chosen] = np.zeros_like(self.weights[chosen])\n",
    "\n",
    "    def predict(self, input_vector):\n",
    "        input_vector = self.complement_code(input_vector)\n",
    "        return np.argmax(np.dot(self.weights, input_vector) / np.sum(input_vector))\n",
    "\n",
    "# Example usage\n",
    "inputs = np.array([[1, 0, 0], [0, 1, 0], [1, 1, 0], [0, 0, 1]])\n",
    "art = ART1(input_size=3, num_categories=4, vigilance=0.7)\n",
    "art.train(inputs)\n",
    "\n",
    "print(\"Predictions:\")\n",
    "for input_vector in inputs:\n",
    "    print(f\"Input: {input_vector}, Predicted Category: {art.predict(input_vector)}\")\n"
   ]
  },
  {
   "cell_type": "code",
   "execution_count": null,
   "id": "a6df9baf",
   "metadata": {},
   "outputs": [],
   "source": []
  }
 ],
 "metadata": {
  "kernelspec": {
   "display_name": "Python 3 (ipykernel)",
   "language": "python",
   "name": "python3"
  },
  "language_info": {
   "codemirror_mode": {
    "name": "ipython",
    "version": 3
   },
   "file_extension": ".py",
   "mimetype": "text/x-python",
   "name": "python",
   "nbconvert_exporter": "python",
   "pygments_lexer": "ipython3",
   "version": "3.12.10"
  }
 },
 "nbformat": 4,
 "nbformat_minor": 5
}
