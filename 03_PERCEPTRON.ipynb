{
 "cells": [
  {
   "cell_type": "code",
   "execution_count": 19,
   "id": "28d40cbb-6d5c-456a-bd85-8d522e19430e",
   "metadata": {},
   "outputs": [],
   "source": [
    "import numpy as np\n",
    "import pandas as pd"
   ]
  },
  {
   "cell_type": "code",
   "execution_count": 23,
   "id": "33cb0f83-3c7a-4ccf-9a04-9afa6e917c6d",
   "metadata": {},
   "outputs": [
    {
     "name": "stdin",
     "output_type": "stream",
     "text": [
      "Enter a Number (0-9):  9\n"
     ]
    }
   ],
   "source": [
    "j = int(input(\"Enter a Number (0-9): \"))"
   ]
  },
  {
   "cell_type": "code",
   "execution_count": 25,
   "id": "415f93e8-6c1f-439d-9695-b03c1601eda9",
   "metadata": {},
   "outputs": [],
   "source": [
    "step_function = lambda x: 1 if x >= 0 else 0"
   ]
  },
  {
   "cell_type": "code",
   "execution_count": 27,
   "id": "43379c56-6500-41b3-8ca3-4beb67dec582",
   "metadata": {},
   "outputs": [],
   "source": [
    "training_data = [\n",
    "    {'input': [1, 1, 0, 0, 0, 0], 'label': 1},\n",
    "    {'input': [1, 1, 0, 0, 0, 1], 'label': 0},\n",
    "    {'input': [1, 1, 0, 0, 1, 0], 'label': 1},\n",
    "    {'input': [1, 1, 0, 1, 1, 1], 'label': 0},\n",
    "    {'input': [1, 1, 0, 1, 0, 0], 'label': 1},\n",
    "    {'input': [1, 1, 0, 1, 0, 1], 'label': 0},\n",
    "    {'input': [1, 1, 0, 1, 1, 0], 'label': 1},\n",
    "    {'input': [1, 1, 0, 1, 1, 1], 'label': 0},\n",
    "    {'input': [1, 1, 1, 0, 0, 0], 'label': 1},\n",
    "    {'input': [1, 1, 1, 0, 0, 1], 'label': 0},\n",
    "]"
   ]
  },
  {
   "cell_type": "code",
   "execution_count": 29,
   "id": "bd9589ce-5070-4b7e-adc2-a30b15978d1a",
   "metadata": {},
   "outputs": [],
   "source": [
    "weights = np.array([0, 0, 0, 0, 0, 1])"
   ]
  },
  {
   "cell_type": "code",
   "execution_count": 31,
   "id": "1eb6be38-5da3-4008-9fae-f760014c1826",
   "metadata": {},
   "outputs": [],
   "source": [
    "for data in training_data:\n",
    "    input_data = np.array(data['input'])\n",
    "    label = data['label']\n",
    "    output = step_function(np.dot(input_data, weights))\n",
    "    error = label - output\n",
    "    weights += input_data * error"
   ]
  },
  {
   "cell_type": "code",
   "execution_count": 33,
   "id": "3266cfe0-5857-43bf-901f-8e11e896e66f",
   "metadata": {},
   "outputs": [],
   "source": [
    "input_data = np.array([int(x) for x in list('{0:06b}'.format(j))])"
   ]
  },
  {
   "cell_type": "code",
   "execution_count": 35,
   "id": "93de0c96-64da-480f-b19d-ff18af49df7a",
   "metadata": {},
   "outputs": [],
   "source": [
    "output = \"odd\" if step_function(np.dot(input_data, weights)) == 0 else \"even\""
   ]
  },
  {
   "cell_type": "code",
   "execution_count": 37,
   "id": "b7fdeeba-9097-4d37-bc4c-638ed3db8988",
   "metadata": {},
   "outputs": [
    {
     "name": "stdout",
     "output_type": "stream",
     "text": [
      "9  is  odd\n"
     ]
    }
   ],
   "source": [
    "print(j, \" is \", output)"
   ]
  },
  {
   "cell_type": "code",
   "execution_count": null,
   "id": "75f996b5-9cf8-4053-bd4d-9be30def17d4",
   "metadata": {},
   "outputs": [],
   "source": []
  }
 ],
 "metadata": {
  "kernelspec": {
   "display_name": "Python 3 (ipykernel)",
   "language": "python",
   "name": "python3"
  },
  "language_info": {
   "codemirror_mode": {
    "name": "ipython",
    "version": 3
   },
   "file_extension": ".py",
   "mimetype": "text/x-python",
   "name": "python",
   "nbconvert_exporter": "python",
   "pygments_lexer": "ipython3",
   "version": "3.12.10"
  }
 },
 "nbformat": 4,
 "nbformat_minor": 5
}
