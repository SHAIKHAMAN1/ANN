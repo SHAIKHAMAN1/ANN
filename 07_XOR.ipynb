{
 "cells": [
  {
   "cell_type": "code",
   "execution_count": 25,
   "id": "8953de29-fc1a-40bd-b22a-466853bf9530",
   "metadata": {},
   "outputs": [],
   "source": [
    "#ANN 7"
   ]
  },
  {
   "cell_type": "code",
   "execution_count": 26,
   "id": "e8a51370-6568-461c-8d66-e0d70fbe7f35",
   "metadata": {},
   "outputs": [],
   "source": [
    "import numpy as np"
   ]
  },
  {
   "cell_type": "code",
   "execution_count": 27,
   "id": "399ed3f7-f400-4690-a517-672bcaecb703",
   "metadata": {},
   "outputs": [],
   "source": [
    "input_neuron = 2    # Number of input neurons\n",
    "hidden_neuron = 4   # Number of hidden neurons\n",
    "output_neuron = 1   # Number of output neurons\n",
    "learning_rate = 0.5\n",
    "epochs = 100000"
   ]
  },
  {
   "cell_type": "code",
   "execution_count": 28,
   "id": "27d8d880-ad26-41a4-8a14-12785fc6327e",
   "metadata": {},
   "outputs": [],
   "source": [
    "X = np.array([[0, 0], [0, 1], [1, 0], [1, 1]])\n",
    "Y = np.array([[0], [1], [1], [0]])"
   ]
  },
  {
   "cell_type": "code",
   "execution_count": 29,
   "id": "a153732e-5664-4ffc-85fa-bda92d14f28b",
   "metadata": {},
   "outputs": [],
   "source": [
    "W1 = np.random.randn(input_neuron, hidden_neuron) * 1\n",
    "W2 = np.random.randn(hidden_neuron, output_neuron) * 1"
   ]
  },
  {
   "cell_type": "code",
   "execution_count": 30,
   "id": "2e0efca2-ffec-48b1-b2a6-28d7ad937c49",
   "metadata": {},
   "outputs": [],
   "source": [
    "b1 = np.random.randn(1, hidden_neuron) * 0.01\n",
    "b2 = np.random.randn(1, output_neuron) * 0.01"
   ]
  },
  {
   "cell_type": "code",
   "execution_count": 31,
   "id": "d64760ad-af92-4ac3-b78b-74b65cb4b88e",
   "metadata": {},
   "outputs": [],
   "source": [
    "def sigmoid(x):\n",
    "    return 1 / (1 + np.exp(-x))"
   ]
  },
  {
   "cell_type": "code",
   "execution_count": 32,
   "id": "c7b6c440-b21b-44dd-9417-255a6e0ff2eb",
   "metadata": {},
   "outputs": [],
   "source": [
    "def sigmoid_derivative(x):\n",
    "    return x * (1 - x)\n"
   ]
  },
  {
   "cell_type": "code",
   "execution_count": 33,
   "id": "4805e624-1071-4eb2-ab43-604dab03c592",
   "metadata": {},
   "outputs": [],
   "source": [
    "for i in range(epochs):\n",
    "    # Forward pass\n",
    "    hidden_layer_input = np.dot(X, W1) + b1\n",
    "    hidden_layer_output = sigmoid(hidden_layer_input)\n",
    "    output_layer_input = np.dot(hidden_layer_output, W2) + b2\n",
    "    output_layer_output = sigmoid(output_layer_input)\n",
    "\n",
    "    # Backward pass\n",
    "    output_error = Y - output_layer_output\n",
    "    output_delta = output_error * sigmoid_derivative(output_layer_output)\n",
    "\n",
    "    hidden_error = output_delta.dot(W2.T)\n",
    "    hidden_delta = hidden_error * sigmoid_derivative(hidden_layer_output)\n",
    "\n",
    "    # Update weights and biases\n",
    "    W2 += np.dot(hidden_layer_output.T, output_delta) * learning_rate\n",
    "    b2 += np.sum(output_delta, axis=0, keepdims=True) * learning_rate\n",
    "    W1 += np.dot(X.T, hidden_delta) * learning_rate\n",
    "    b1 += np.sum(hidden_delta, axis=0, keepdims=True) * learning_rate\n"
   ]
  },
  {
   "cell_type": "code",
   "execution_count": 34,
   "id": "dfc4a9b5-c71a-4b2b-8a58-fc0b69a74cdb",
   "metadata": {},
   "outputs": [],
   "source": [
    "x_test = np.array([[0, 0], [0, 1], [1, 0], [1, 1]])\n",
    "y_test = np.array([[0], [1], [1], [0]])"
   ]
  },
  {
   "cell_type": "code",
   "execution_count": 35,
   "id": "fb544eda-9f30-4c05-97d1-20345c202d38",
   "metadata": {},
   "outputs": [],
   "source": [
    "hidden_layer_input = np.dot(x_test, W1) + b1\n",
    "hidden_layer_output = sigmoid(hidden_layer_input)\n",
    "output_layer_input = np.dot(hidden_layer_output, W2) + b2\n",
    "output_layer_output = sigmoid(output_layer_input)"
   ]
  },
  {
   "cell_type": "code",
   "execution_count": 36,
   "id": "5512cb64-791c-4003-a0f1-87f178b54ba4",
   "metadata": {},
   "outputs": [
    {
     "name": "stdout",
     "output_type": "stream",
     "text": [
      "Input:\n",
      "[[0 0]\n",
      " [0 1]\n",
      " [1 0]\n",
      " [1 1]]\n",
      "Output:\n",
      "[[0.00243649]\n",
      " [0.99539175]\n",
      " [0.99550019]\n",
      " [0.00566935]]\n",
      "Expected Output:\n",
      "[[0]\n",
      " [1]\n",
      " [1]\n",
      " [0]]\n"
     ]
    }
   ],
   "source": [
    "print(\"Input:\")\n",
    "print(x_test)\n",
    "print(\"Output:\")\n",
    "print(output_layer_output)\n",
    "print(\"Expected Output:\")\n",
    "print(y_test)"
   ]
  },
  {
   "cell_type": "code",
   "execution_count": null,
   "id": "db101243-f32a-4d08-82a5-3a44e0aab012",
   "metadata": {},
   "outputs": [],
   "source": []
  }
 ],
 "metadata": {
  "kernelspec": {
   "display_name": "Python 3 (ipykernel)",
   "language": "python",
   "name": "python3"
  },
  "language_info": {
   "codemirror_mode": {
    "name": "ipython",
    "version": 3
   },
   "file_extension": ".py",
   "mimetype": "text/x-python",
   "name": "python",
   "nbconvert_exporter": "python",
   "pygments_lexer": "ipython3",
   "version": "3.12.10"
  }
 },
 "nbformat": 4,
 "nbformat_minor": 5
}
