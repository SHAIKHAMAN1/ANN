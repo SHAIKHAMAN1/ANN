{
 "cells": [
  {
   "cell_type": "code",
   "execution_count": 6,
   "id": "42883626-cf75-456d-bcbc-6c1b9e263b21",
   "metadata": {},
   "outputs": [],
   "source": [
    "#ANN 6"
   ]
  },
  {
   "cell_type": "code",
   "execution_count": 7,
   "id": "40d62a9b-554e-48d6-a243-89880c0f94d4",
   "metadata": {},
   "outputs": [],
   "source": [
    "import numpy as np"
   ]
  },
  {
   "cell_type": "code",
   "execution_count": 8,
   "id": "cc294139-62f6-4bfa-b0ad-a8a44476ff78",
   "metadata": {},
   "outputs": [],
   "source": [
    "def sigmoid(x):\n",
    "    return 1 / (1 + np.exp(-x))"
   ]
  },
  {
   "cell_type": "code",
   "execution_count": 9,
   "id": "b2f0c6ec-36c6-4142-a3f9-7c5d3cdb31f3",
   "metadata": {},
   "outputs": [],
   "source": [
    "def sigmoid_derivative(x):\n",
    "    return x * (1 - x)"
   ]
  },
  {
   "cell_type": "code",
   "execution_count": 10,
   "id": "52050157-60de-4eb2-b1a2-d5c449521a2c",
   "metadata": {},
   "outputs": [],
   "source": [
    "def train_neural_network(X, y, learning_rate, epochs):\n",
    "    # Step 3: Initialize the weights and biases with random values\n",
    "    input_neurons = X.shape[1]\n",
    "    hidden_neurons = 4\n",
    "    output_neurons = y.shape[1]\n",
    "    \n",
    "    hrm(size=(input_neurons, hidden_neurons))\n",
    "    hidden_biasidden_weights = np.random.unifo = np.random.uniform(size=(1, hidden_neurons))\n",
    "    output_weights = np.random.uniform(size=(hidden_neurons, output_neurons))\n",
    "    output_bias = np.random.uniform(size=(1, output_neurons))\n",
    "    \n",
    "    # Step 4: Perform the training iterations\n",
    "    for i in range(epochs):\n",
    "        # Step 4.1: Forward propagation\n",
    "        hidden_layer_activation = np.dot(X, hidden_weights) + hidden_bias\n",
    "        hidden_layer_output = sigmoid(hidden_layer_activation)\n",
    "\n",
    "        output_layer_activation = np.dot(hidden_layer_output, output_weights) + output_bias\n",
    "        predicted_output = sigmoid(output_layer_activation)\n",
    "\n",
    "        # Step 4.2: Backward propagation\n",
    "        error = y - predicted_output\n",
    "        d_predicted_output = error * sigmoid_derivative(predicted_output)\n",
    "\n",
    "        error_hidden_layer = d_predicted_output.dot(output_weights.T)\n",
    "        d_hidden_layer = error_hidden_layer * sigmoid_derivative(hidden_layer_output)\n",
    "\n",
    "        # Step 4.3: Update the weights and biases\n",
    "        output_weights += hidden_layer_output.T.dot(d_predicted_output) * learning_rate\n",
    "        output_bias += np.sum(d_predicted_output, axis=0, keepdims=True) * learning_rate\n",
    "        hidden_weights += X.T.dot(d_hidden_layer) * learning_rate\n",
    "        hidden_bias += np.sum(d_hidden_layer, axis=0, keepdims=True) * learning_rate\n",
    "    \n",
    "    # Step 5: Return the predicted output\n",
    "    return predicted_output\n"
   ]
  },
  {
   "cell_type": "code",
   "execution_count": 11,
   "id": "24e741cc-ea3a-4060-ad10-7cf6b7a612af",
   "metadata": {},
   "outputs": [],
   "source": [
    "X = np.array([[0, 0, 1], [0, 1, 1], [1, 0, 1], [1, 1, 1]])\n",
    "y = np.array([[0], [1], [1], [0]])"
   ]
  },
  {
   "cell_type": "code",
   "execution_count": 12,
   "id": "97940c29-b1d9-488d-be42-8c8ffd65bcb4",
   "metadata": {},
   "outputs": [
    {
     "name": "stdout",
     "output_type": "stream",
     "text": [
      "[[0.05008808]\n",
      " [0.94890036]\n",
      " [0.95329709]\n",
      " [0.05369638]]\n"
     ]
    }
   ],
   "source": [
    "predicted_output = train_neural_network(X, y, learning_rate=0.1, epochs=10000)\n",
    "\n",
    "print(predicted_output)"
   ]
  },
  {
   "cell_type": "code",
   "execution_count": null,
   "id": "b045af3a-0926-488d-bb84-6ee71df275bc",
   "metadata": {},
   "outputs": [],
   "source": []
  }
 ],
 "metadata": {
  "kernelspec": {
   "display_name": "Python 3 (ipykernel)",
   "language": "python",
   "name": "python3"
  },
  "language_info": {
   "codemirror_mode": {
    "name": "ipython",
    "version": 3
   },
   "file_extension": ".py",
   "mimetype": "text/x-python",
   "name": "python",
   "nbconvert_exporter": "python",
   "pygments_lexer": "ipython3",
   "version": "3.12.10"
  }
 },
 "nbformat": 4,
 "nbformat_minor": 5
}
