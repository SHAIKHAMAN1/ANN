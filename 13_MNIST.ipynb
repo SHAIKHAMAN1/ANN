{
 "cells": [
  {
   "cell_type": "code",
   "execution_count": 2,
   "id": "25489544-67fc-4979-aada-7daa8ca546e2",
   "metadata": {},
   "outputs": [
    {
     "name": "stdout",
     "output_type": "stream",
     "text": [
      "\u001b[1m1875/1875\u001b[0m \u001b[32m━━━━━━━━━━━━━━━━━━━━\u001b[0m\u001b[37m\u001b[0m \u001b[1m13s\u001b[0m 6ms/step - accuracy: 0.8780 - loss: 0.4248\n",
      "\u001b[1m1/1\u001b[0m \u001b[32m━━━━━━━━━━━━━━━━━━━━\u001b[0m\u001b[37m\u001b[0m \u001b[1m0s\u001b[0m 125ms/step\n"
     ]
    },
    {
     "data": {
      "image/png": "[encoded data removed]",
      "text/plain": [
       "<Figure size 640x480 with 1 Axes>"
      ]
     },
     "metadata": {},
     "output_type": "display_data"
    }
   ],
   "source": [
    "import tensorflow as tf\n",
    "import numpy as np\n",
    "import matplotlib.pyplot as plt\n",
    "\n",
    "# Step 1: Load MNIST dataset (official, built-in)\n",
    "(X_train, y_train), (X_test, y_test) = tf.keras.datasets.mnist.load_data()\n",
    "\n",
    "# Step 2: Preprocess the data\n",
    "X_test = X_test / 255.0  # normalize to 0-1\n",
    "X_test = X_test.reshape(-1, 28, 28, 1)  # reshape for model input\n",
    "\n",
    "# Step 3: Load a pretrained official model (from TensorFlow Hub or create quickly)\n",
    "# Note: We'll train a quick small model first because MNIST models are very small.\n",
    "model = tf.keras.Sequential([\n",
    "    tf.keras.layers.Flatten(input_shape=(28, 28, 1)),\n",
    "    tf.keras.layers.Dense(128, activation='relu'),\n",
    "    tf.keras.layers.Dense(10, activation='softmax')\n",
    "])\n",
    "\n",
    "model.compile(optimizer='adam',\n",
    "              loss='sparse_categorical_crossentropy',\n",
    "              metrics=['accuracy'])\n",
    "\n",
    "# Step 4: Train model shortly (only 1 epoch to save time)\n",
    "model.fit(X_train.reshape(-1, 28, 28, 1) / 255.0, y_train, epochs=1)\n",
    "\n",
    "# Step 5: Predict a random test image\n",
    "idx = np.random.randint(0, len(X_test))\n",
    "sample_image = X_test[idx]\n",
    "sample_label = y_test[idx]\n",
    "\n",
    "prediction = model.predict(sample_image.reshape(1, 28, 28, 1))\n",
    "predicted_digit = np.argmax(prediction)\n",
    "\n",
    "# Step 6: Show the image and prediction\n",
    "plt.imshow(sample_image.reshape(28, 28), cmap=\"gray\")\n",
    "plt.title(f\"Actual: {sample_label} | Predicted: {predicted_digit}\")\n",
    "plt.axis('off')\n",
    "plt.show()"
   ]
  }
 ],
 "metadata": {
  "kernelspec": {
   "display_name": "Python 3 (ipykernel)",
   "language": "python",
   "name": "python3"
  },
  "language_info": {
   "codemirror_mode": {
    "name": "ipython",
    "version": 3
   },
   "file_extension": ".py",
   "mimetype": "text/x-python",
   "name": "python",
   "nbconvert_exporter": "python",
   "pygments_lexer": "ipython3",
   "version": "3.12.10"
  }
 },
 "nbformat": 4,
 "nbformat_minor": 5
}
